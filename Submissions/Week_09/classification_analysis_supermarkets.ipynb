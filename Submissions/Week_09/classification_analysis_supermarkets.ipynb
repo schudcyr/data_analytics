{
 "cells": [
  {
   "cell_type": "markdown",
   "id": "a59b1799",
   "metadata": {},
   "source": [
    "# Classification supermarkets"
   ]
  },
  {
   "cell_type": "markdown",
   "id": "8ca19f50",
   "metadata": {},
   "source": [
    "## Libraries and settings"
   ]
  },
  {
   "cell_type": "code",
   "execution_count": 6,
   "id": "2406c857",
   "metadata": {},
   "outputs": [
    {
     "name": "stdout",
     "output_type": "stream",
     "text": [
      "/workspaces/data_analytics/Submissions/Week_09\n"
     ]
    },
    {
     "data": {
      "text/plain": [
       "'1.3.0'"
      ]
     },
     "execution_count": 6,
     "metadata": {},
     "output_type": "execute_result"
    }
   ],
   "source": [
    "# Libraries\n",
    "import os\n",
    "import numpy as np\n",
    "import pandas as pd\n",
    "import seaborn as sns\n",
    "import matplotlib.pyplot as plt\n",
    "from IPython.display import Image\n",
    "\n",
    "from sklearn import tree\n",
    "from sklearn.metrics import RocCurveDisplay\n",
    "from sklearn.tree import DecisionTreeClassifier\n",
    "from sklearn.ensemble import RandomForestClassifier\n",
    "from sklearn.model_selection import train_test_split\n",
    "from sklearn.metrics import classification_report, confusion_matrix\n",
    "\n",
    "# Ignore warnings\n",
    "import warnings\n",
    "warnings.filterwarnings('ignore')\n",
    "\n",
    "# Show current working directory\n",
    "print(os.getcwd())\n",
    "\n",
    "# Show version of scikit-learn\n",
    "import sklearn\n",
    "sklearn.__version__"
   ]
  },
  {
   "cell_type": "markdown",
   "id": "3874c706",
   "metadata": {},
   "source": [
    "## Import supermarkets data"
   ]
  },
  {
   "cell_type": "code",
   "execution_count": 20,
   "id": "9d01b013",
   "metadata": {},
   "outputs": [
    {
     "name": "stdout",
     "output_type": "stream",
     "text": [
      "(3242, 18)\n"
     ]
    },
    {
     "data": {
      "text/html": [
       "<div>\n",
       "<style scoped>\n",
       "    .dataframe tbody tr th:only-of-type {\n",
       "        vertical-align: middle;\n",
       "    }\n",
       "\n",
       "    .dataframe tbody tr th {\n",
       "        vertical-align: top;\n",
       "    }\n",
       "\n",
       "    .dataframe thead th {\n",
       "        text-align: right;\n",
       "    }\n",
       "</style>\n",
       "<table border=\"1\" class=\"dataframe\">\n",
       "  <thead>\n",
       "    <tr style=\"text-align: right;\">\n",
       "      <th></th>\n",
       "      <th>id</th>\n",
       "      <th>bfs_name</th>\n",
       "      <th>bfs_number</th>\n",
       "      <th>lat</th>\n",
       "      <th>lon</th>\n",
       "      <th>brand</th>\n",
       "      <th>pop</th>\n",
       "      <th>pop_dens</th>\n",
       "      <th>frg_pct</th>\n",
       "      <th>emp</th>\n",
       "    </tr>\n",
       "  </thead>\n",
       "  <tbody>\n",
       "    <tr>\n",
       "      <th>0</th>\n",
       "      <td>33126515</td>\n",
       "      <td>Schänis</td>\n",
       "      <td>3315</td>\n",
       "      <td>47.155616</td>\n",
       "      <td>9.037915</td>\n",
       "      <td>Spar</td>\n",
       "      <td>3876</td>\n",
       "      <td>97.142857</td>\n",
       "      <td>13.054696</td>\n",
       "      <td>1408.0</td>\n",
       "    </tr>\n",
       "    <tr>\n",
       "      <th>1</th>\n",
       "      <td>280130028</td>\n",
       "      <td>Schänis</td>\n",
       "      <td>3315</td>\n",
       "      <td>47.155492</td>\n",
       "      <td>9.039666</td>\n",
       "      <td>ALDI</td>\n",
       "      <td>3876</td>\n",
       "      <td>97.142857</td>\n",
       "      <td>13.054696</td>\n",
       "      <td>1408.0</td>\n",
       "    </tr>\n",
       "    <tr>\n",
       "      <th>2</th>\n",
       "      <td>6122906632</td>\n",
       "      <td>Schänis</td>\n",
       "      <td>3315</td>\n",
       "      <td>47.158959</td>\n",
       "      <td>9.044477</td>\n",
       "      <td>Denner</td>\n",
       "      <td>3876</td>\n",
       "      <td>97.142857</td>\n",
       "      <td>13.054696</td>\n",
       "      <td>1408.0</td>\n",
       "    </tr>\n",
       "    <tr>\n",
       "      <th>3</th>\n",
       "      <td>9019298862</td>\n",
       "      <td>Schänis</td>\n",
       "      <td>3315</td>\n",
       "      <td>47.155185</td>\n",
       "      <td>9.038472</td>\n",
       "      <td>Lidl</td>\n",
       "      <td>3876</td>\n",
       "      <td>97.142857</td>\n",
       "      <td>13.054696</td>\n",
       "      <td>1408.0</td>\n",
       "    </tr>\n",
       "    <tr>\n",
       "      <th>4</th>\n",
       "      <td>36726161</td>\n",
       "      <td>Uznach</td>\n",
       "      <td>3339</td>\n",
       "      <td>47.226191</td>\n",
       "      <td>8.980329</td>\n",
       "      <td>Migros</td>\n",
       "      <td>6489</td>\n",
       "      <td>860.610080</td>\n",
       "      <td>27.862537</td>\n",
       "      <td>3500.0</td>\n",
       "    </tr>\n",
       "  </tbody>\n",
       "</table>\n",
       "</div>"
      ],
      "text/plain": [
       "           id bfs_name  bfs_number        lat       lon   brand   pop  \\\n",
       "0    33126515  Schänis        3315  47.155616  9.037915    Spar  3876   \n",
       "1   280130028  Schänis        3315  47.155492  9.039666    ALDI  3876   \n",
       "2  6122906632  Schänis        3315  47.158959  9.044477  Denner  3876   \n",
       "3  9019298862  Schänis        3315  47.155185  9.038472    Lidl  3876   \n",
       "4    36726161   Uznach        3339  47.226191  8.980329  Migros  6489   \n",
       "\n",
       "     pop_dens    frg_pct     emp  \n",
       "0   97.142857  13.054696  1408.0  \n",
       "1   97.142857  13.054696  1408.0  \n",
       "2   97.142857  13.054696  1408.0  \n",
       "3   97.142857  13.054696  1408.0  \n",
       "4  860.610080  27.862537  3500.0  "
      ]
     },
     "execution_count": 20,
     "metadata": {},
     "output_type": "execute_result"
    }
   ],
   "source": [
    "# Read and select variables\n",
    "df_supermarkets_orig = pd.read_csv(\"supermarkets_data_enriched.csv\", sep=\",\", encoding=\"utf-8\")\n",
    "\n",
    "# Number of rows and columns\n",
    "print(df_supermarkets_orig.shape)\n",
    "\n",
    "# First records\n",
    "df_supermarkets_orig.head(5)\n",
    "\n",
    "df_supermarkets = df_supermarkets_orig[['id', 'bfs_name', 'bfs_number', 'lat', 'lon', 'brand', 'pop', 'pop_dens', 'frg_pct', 'emp']]\n",
    "df_supermarkets.head(5)\n"
   ]
  },
  {
   "cell_type": "markdown",
   "id": "504180cb",
   "metadata": {},
   "source": [
    "## Count and remove missing values, make sub df"
   ]
  },
  {
   "cell_type": "code",
   "execution_count": 21,
   "id": "3c48e42d",
   "metadata": {},
   "outputs": [
    {
     "name": "stdout",
     "output_type": "stream",
     "text": [
      "id               0\n",
      "bfs_name         0\n",
      "bfs_number       0\n",
      "lat              0\n",
      "lon              0\n",
      "brand         1233\n",
      "pop              0\n",
      "pop_dens         0\n",
      "frg_pct          0\n",
      "emp             45\n",
      "dtype: int64\n"
     ]
    },
    {
     "data": {
      "text/html": [
       "<div>\n",
       "<style scoped>\n",
       "    .dataframe tbody tr th:only-of-type {\n",
       "        vertical-align: middle;\n",
       "    }\n",
       "\n",
       "    .dataframe tbody tr th {\n",
       "        vertical-align: top;\n",
       "    }\n",
       "\n",
       "    .dataframe thead th {\n",
       "        text-align: right;\n",
       "    }\n",
       "</style>\n",
       "<table border=\"1\" class=\"dataframe\">\n",
       "  <thead>\n",
       "    <tr style=\"text-align: right;\">\n",
       "      <th></th>\n",
       "      <th>id</th>\n",
       "      <th>bfs_name</th>\n",
       "      <th>bfs_number</th>\n",
       "      <th>lat</th>\n",
       "      <th>lon</th>\n",
       "      <th>brand</th>\n",
       "      <th>pop</th>\n",
       "      <th>pop_dens</th>\n",
       "      <th>frg_pct</th>\n",
       "      <th>emp</th>\n",
       "    </tr>\n",
       "  </thead>\n",
       "  <tbody>\n",
       "    <tr>\n",
       "      <th>4</th>\n",
       "      <td>36726161</td>\n",
       "      <td>Uznach</td>\n",
       "      <td>3339</td>\n",
       "      <td>47.226191</td>\n",
       "      <td>8.980329</td>\n",
       "      <td>Migros</td>\n",
       "      <td>6489</td>\n",
       "      <td>860.610080</td>\n",
       "      <td>27.862537</td>\n",
       "      <td>3500.0</td>\n",
       "    </tr>\n",
       "    <tr>\n",
       "      <th>8</th>\n",
       "      <td>48932835</td>\n",
       "      <td>Zürich</td>\n",
       "      <td>261</td>\n",
       "      <td>47.375020</td>\n",
       "      <td>8.522895</td>\n",
       "      <td>Migros</td>\n",
       "      <td>420217</td>\n",
       "      <td>4778.994655</td>\n",
       "      <td>32.458468</td>\n",
       "      <td>491193.0</td>\n",
       "    </tr>\n",
       "    <tr>\n",
       "      <th>11</th>\n",
       "      <td>83330862</td>\n",
       "      <td>Zürich</td>\n",
       "      <td>261</td>\n",
       "      <td>47.344749</td>\n",
       "      <td>8.529981</td>\n",
       "      <td>Migros</td>\n",
       "      <td>420217</td>\n",
       "      <td>4778.994655</td>\n",
       "      <td>32.458468</td>\n",
       "      <td>491193.0</td>\n",
       "    </tr>\n",
       "    <tr>\n",
       "      <th>12</th>\n",
       "      <td>119249170</td>\n",
       "      <td>Zürich</td>\n",
       "      <td>261</td>\n",
       "      <td>47.375255</td>\n",
       "      <td>8.536107</td>\n",
       "      <td>Migros</td>\n",
       "      <td>420217</td>\n",
       "      <td>4778.994655</td>\n",
       "      <td>32.458468</td>\n",
       "      <td>491193.0</td>\n",
       "    </tr>\n",
       "    <tr>\n",
       "      <th>15</th>\n",
       "      <td>262400822</td>\n",
       "      <td>Zürich</td>\n",
       "      <td>261</td>\n",
       "      <td>47.364072</td>\n",
       "      <td>8.530945</td>\n",
       "      <td>Migros</td>\n",
       "      <td>420217</td>\n",
       "      <td>4778.994655</td>\n",
       "      <td>32.458468</td>\n",
       "      <td>491193.0</td>\n",
       "    </tr>\n",
       "    <tr>\n",
       "      <th>20</th>\n",
       "      <td>267346993</td>\n",
       "      <td>Zürich</td>\n",
       "      <td>261</td>\n",
       "      <td>47.385598</td>\n",
       "      <td>8.531471</td>\n",
       "      <td>Migros</td>\n",
       "      <td>420217</td>\n",
       "      <td>4778.994655</td>\n",
       "      <td>32.458468</td>\n",
       "      <td>491193.0</td>\n",
       "    </tr>\n",
       "    <tr>\n",
       "      <th>24</th>\n",
       "      <td>270958272</td>\n",
       "      <td>Zürich</td>\n",
       "      <td>261</td>\n",
       "      <td>47.358367</td>\n",
       "      <td>8.554074</td>\n",
       "      <td>Migros</td>\n",
       "      <td>420217</td>\n",
       "      <td>4778.994655</td>\n",
       "      <td>32.458468</td>\n",
       "      <td>491193.0</td>\n",
       "    </tr>\n",
       "    <tr>\n",
       "      <th>25</th>\n",
       "      <td>271028298</td>\n",
       "      <td>Zürich</td>\n",
       "      <td>261</td>\n",
       "      <td>47.365678</td>\n",
       "      <td>8.548041</td>\n",
       "      <td>Migros</td>\n",
       "      <td>420217</td>\n",
       "      <td>4778.994655</td>\n",
       "      <td>32.458468</td>\n",
       "      <td>491193.0</td>\n",
       "    </tr>\n",
       "    <tr>\n",
       "      <th>27</th>\n",
       "      <td>271029206</td>\n",
       "      <td>Zürich</td>\n",
       "      <td>261</td>\n",
       "      <td>47.364596</td>\n",
       "      <td>8.553846</td>\n",
       "      <td>Migros</td>\n",
       "      <td>420217</td>\n",
       "      <td>4778.994655</td>\n",
       "      <td>32.458468</td>\n",
       "      <td>491193.0</td>\n",
       "    </tr>\n",
       "    <tr>\n",
       "      <th>29</th>\n",
       "      <td>273942728</td>\n",
       "      <td>Zürich</td>\n",
       "      <td>261</td>\n",
       "      <td>47.357610</td>\n",
       "      <td>8.571369</td>\n",
       "      <td>Migros</td>\n",
       "      <td>420217</td>\n",
       "      <td>4778.994655</td>\n",
       "      <td>32.458468</td>\n",
       "      <td>491193.0</td>\n",
       "    </tr>\n",
       "  </tbody>\n",
       "</table>\n",
       "</div>"
      ],
      "text/plain": [
       "           id bfs_name  bfs_number        lat       lon   brand     pop  \\\n",
       "4    36726161   Uznach        3339  47.226191  8.980329  Migros    6489   \n",
       "8    48932835   Zürich         261  47.375020  8.522895  Migros  420217   \n",
       "11   83330862   Zürich         261  47.344749  8.529981  Migros  420217   \n",
       "12  119249170   Zürich         261  47.375255  8.536107  Migros  420217   \n",
       "15  262400822   Zürich         261  47.364072  8.530945  Migros  420217   \n",
       "20  267346993   Zürich         261  47.385598  8.531471  Migros  420217   \n",
       "24  270958272   Zürich         261  47.358367  8.554074  Migros  420217   \n",
       "25  271028298   Zürich         261  47.365678  8.548041  Migros  420217   \n",
       "27  271029206   Zürich         261  47.364596  8.553846  Migros  420217   \n",
       "29  273942728   Zürich         261  47.357610  8.571369  Migros  420217   \n",
       "\n",
       "       pop_dens    frg_pct       emp  \n",
       "4    860.610080  27.862537    3500.0  \n",
       "8   4778.994655  32.458468  491193.0  \n",
       "11  4778.994655  32.458468  491193.0  \n",
       "12  4778.994655  32.458468  491193.0  \n",
       "15  4778.994655  32.458468  491193.0  \n",
       "20  4778.994655  32.458468  491193.0  \n",
       "24  4778.994655  32.458468  491193.0  \n",
       "25  4778.994655  32.458468  491193.0  \n",
       "27  4778.994655  32.458468  491193.0  \n",
       "29  4778.994655  32.458468  491193.0  "
      ]
     },
     "execution_count": 21,
     "metadata": {},
     "output_type": "execute_result"
    }
   ],
   "source": [
    "# Count missing values\n",
    "print(df_supermarkets.isna().sum())\n",
    "\n",
    "# Remove missing values\n",
    "df_supermarkets = df_supermarkets.dropna(subset=['id', 'bfs_name', 'bfs_number', 'lat', 'lon', 'brand', 'pop', 'pop_dens', 'frg_pct', 'emp'])\n",
    "\n",
    "# Migros & Volg subset\n",
    "df_sub = df_supermarkets.loc[df_supermarkets['brand'].isin(['Migros', 'Volg'])]\n",
    "df_sub.head(10)"
   ]
  },
  {
   "cell_type": "markdown",
   "id": "8454077a",
   "metadata": {},
   "source": [
    "## Classification Tree\n",
    "For details see: https://scikit-learn.org/stable/modules/generated/sklearn.tree.DecisionTreeClassifier.html"
   ]
  },
  {
   "cell_type": "markdown",
   "id": "33fdc652",
   "metadata": {},
   "source": [
    "### Create train and test samples (train = 80%, test = 20% of the data)"
   ]
  },
  {
   "cell_type": "code",
   "execution_count": 26,
   "id": "9ede480d",
   "metadata": {},
   "outputs": [
    {
     "name": "stdout",
     "output_type": "stream",
     "text": [
      "X_train:\n",
      "      bfs_number        lat       lon     pop     pop_dens    frg_pct  \\\n",
      "293         2701  47.543553  7.592179  173232  7263.396226  37.955459   \n",
      "2568        1098  47.088382  8.112992    7046   155.712707   9.466364   \n",
      "1175        1707  47.141312  8.428719   10990   739.569314  26.669700   \n",
      "1436        2401  47.318050  7.801760    3793   545.755396  31.953599   \n",
      "57           261  47.393708  8.529246  420217  4778.994655  32.458468   \n",
      "\n",
      "           emp  \n",
      "293   185432.0  \n",
      "2568    3100.0  \n",
      "1175   13035.0  \n",
      "1436    3713.0  \n",
      "57    491193.0   \n",
      "\n",
      "y_train:\n",
      "293     Migros\n",
      "2568    Migros\n",
      "1175    Migros\n",
      "1436    Migros\n",
      "57      Migros\n",
      "Name: brand, dtype: object\n"
     ]
    }
   ],
   "source": [
    "# Create train and test samples\n",
    "X_train, X_test, y_train, y_test = train_test_split(df_sub[['bfs_number', 'lat', 'lon', 'pop', 'pop_dens', 'frg_pct', 'emp']], \n",
    "                                                    df_sub['brand'], \n",
    "                                                    test_size=0.50, \n",
    "                                                    random_state=42)\n",
    "\n",
    "# Show X_train\n",
    "print('X_train:')\n",
    "print(X_train.head(), '\\n')\n",
    "\n",
    "# Show y_train\n",
    "print('y_train:')\n",
    "print(y_train.head())"
   ]
  },
  {
   "cell_type": "markdown",
   "id": "d6cff87c",
   "metadata": {},
   "source": [
    "### Fit the classification tree model and make predictions"
   ]
  },
  {
   "cell_type": "code",
   "execution_count": 31,
   "id": "db24f230",
   "metadata": {},
   "outputs": [
    {
     "data": {
      "text/plain": [
       "array(['Migros', 'Migros', 'Migros', 'Migros', 'Migros', 'Migros',\n",
       "       'Migros', 'Migros', 'Volg', 'Migros', 'Volg', 'Migros', 'Migros',\n",
       "       'Migros', 'Migros', 'Volg', 'Volg', 'Migros', 'Volg', 'Migros',\n",
       "       'Volg', 'Migros', 'Volg', 'Migros', 'Migros', 'Volg', 'Volg',\n",
       "       'Migros', 'Volg', 'Migros', 'Migros', 'Volg', 'Migros', 'Migros',\n",
       "       'Migros', 'Migros', 'Migros', 'Migros', 'Migros', 'Migros',\n",
       "       'Migros', 'Migros', 'Volg', 'Volg', 'Volg', 'Migros', 'Volg',\n",
       "       'Migros', 'Migros', 'Migros', 'Migros', 'Migros', 'Migros',\n",
       "       'Migros', 'Migros', 'Migros', 'Volg', 'Migros', 'Volg', 'Volg',\n",
       "       'Migros', 'Migros', 'Migros', 'Migros', 'Migros', 'Volg', 'Migros',\n",
       "       'Migros', 'Migros', 'Migros', 'Migros', 'Migros', 'Volg', 'Migros',\n",
       "       'Migros', 'Volg', 'Migros', 'Migros', 'Migros', 'Migros', 'Volg',\n",
       "       'Migros', 'Volg', 'Migros', 'Migros', 'Migros', 'Migros', 'Migros',\n",
       "       'Migros', 'Migros', 'Migros', 'Volg', 'Migros', 'Migros', 'Migros',\n",
       "       'Migros', 'Migros', 'Volg', 'Migros', 'Migros', 'Migros', 'Migros',\n",
       "       'Migros', 'Migros', 'Migros', 'Migros', 'Migros', 'Migros',\n",
       "       'Migros', 'Migros', 'Volg', 'Migros', 'Migros', 'Migros', 'Volg',\n",
       "       'Migros', 'Volg', 'Migros', 'Volg', 'Migros', 'Migros', 'Volg',\n",
       "       'Migros', 'Migros', 'Volg', 'Migros', 'Volg', 'Migros', 'Migros',\n",
       "       'Migros', 'Migros', 'Volg', 'Migros', 'Migros', 'Migros', 'Migros',\n",
       "       'Migros', 'Migros', 'Migros', 'Migros', 'Volg', 'Migros', 'Migros',\n",
       "       'Migros', 'Migros', 'Migros', 'Migros', 'Migros', 'Migros',\n",
       "       'Migros', 'Migros', 'Migros', 'Migros', 'Migros', 'Volg', 'Migros',\n",
       "       'Migros', 'Migros', 'Migros', 'Migros', 'Volg', 'Volg', 'Migros',\n",
       "       'Volg', 'Volg', 'Volg', 'Migros', 'Migros', 'Migros', 'Migros',\n",
       "       'Volg', 'Volg', 'Migros', 'Migros', 'Migros', 'Migros', 'Migros',\n",
       "       'Migros', 'Migros', 'Migros', 'Migros', 'Migros', 'Migros', 'Volg',\n",
       "       'Migros', 'Migros', 'Migros', 'Migros', 'Migros', 'Migros',\n",
       "       'Migros', 'Migros', 'Volg', 'Migros', 'Migros', 'Migros', 'Migros',\n",
       "       'Migros', 'Migros', 'Migros', 'Migros', 'Migros', 'Migros',\n",
       "       'Migros', 'Migros', 'Volg', 'Volg', 'Migros', 'Volg', 'Volg',\n",
       "       'Volg', 'Migros', 'Volg', 'Migros', 'Volg', 'Volg', 'Volg',\n",
       "       'Migros', 'Volg', 'Migros', 'Migros', 'Migros', 'Migros', 'Migros',\n",
       "       'Volg', 'Migros', 'Migros', 'Migros', 'Volg', 'Volg', 'Migros',\n",
       "       'Migros', 'Migros', 'Migros', 'Migros', 'Migros', 'Migros',\n",
       "       'Migros', 'Migros', 'Migros', 'Migros', 'Volg', 'Migros', 'Migros',\n",
       "       'Migros', 'Migros', 'Volg', 'Migros', 'Migros', 'Migros', 'Migros',\n",
       "       'Migros', 'Migros', 'Migros', 'Migros', 'Migros', 'Migros',\n",
       "       'Migros', 'Volg', 'Volg', 'Migros', 'Migros', 'Migros', 'Volg',\n",
       "       'Migros', 'Migros', 'Migros', 'Migros', 'Migros', 'Migros',\n",
       "       'Migros', 'Migros', 'Migros', 'Migros', 'Migros', 'Volg', 'Volg',\n",
       "       'Volg', 'Migros', 'Migros', 'Migros', 'Migros', 'Migros', 'Volg',\n",
       "       'Migros', 'Migros', 'Migros', 'Migros', 'Migros', 'Migros',\n",
       "       'Migros', 'Migros', 'Volg', 'Migros', 'Migros', 'Migros', 'Migros',\n",
       "       'Volg', 'Migros', 'Migros', 'Migros', 'Migros', 'Migros', 'Migros',\n",
       "       'Volg', 'Migros', 'Migros', 'Migros', 'Volg', 'Migros', 'Migros',\n",
       "       'Volg', 'Volg', 'Volg', 'Migros', 'Volg', 'Volg', 'Volg', 'Volg',\n",
       "       'Migros', 'Migros', 'Volg', 'Migros', 'Migros', 'Migros', 'Volg',\n",
       "       'Migros', 'Volg', 'Migros', 'Migros', 'Migros', 'Migros', 'Migros',\n",
       "       'Migros', 'Migros', 'Migros', 'Migros', 'Migros', 'Migros',\n",
       "       'Migros', 'Migros', 'Migros', 'Migros', 'Migros', 'Migros',\n",
       "       'Migros', 'Migros', 'Volg'], dtype=object)"
      ]
     },
     "execution_count": 31,
     "metadata": {},
     "output_type": "execute_result"
    }
   ],
   "source": [
    "# Initialize the classification tree model \n",
    "clf = DecisionTreeClassifier(random_state=20, \n",
    "                             max_depth=3)\n",
    "\n",
    "# Train the classification tree model \n",
    "clf = clf.fit(X_train, y_train)\n",
    "\n",
    "# Make model predictions\n",
    "y_pred = clf.predict(X_test)\n",
    "y_pred"
   ]
  },
  {
   "cell_type": "markdown",
   "id": "a28a20dd",
   "metadata": {},
   "source": [
    "### Show confusion matrix and classification report"
   ]
  },
  {
   "cell_type": "code",
   "execution_count": 32,
   "id": "de5355f0",
   "metadata": {},
   "outputs": [
    {
     "name": "stdout",
     "output_type": "stream",
     "text": [
      "Confusion matrix\n",
      "[[230  16]\n",
      " [ 37  65]] \n",
      "\n",
      "Classification report\n",
      "              precision    recall  f1-score   support\n",
      "\n",
      "      Migros       0.86      0.93      0.90       246\n",
      "        Volg       0.80      0.64      0.71       102\n",
      "\n",
      "    accuracy                           0.85       348\n",
      "   macro avg       0.83      0.79      0.80       348\n",
      "weighted avg       0.84      0.85      0.84       348\n",
      "\n"
     ]
    }
   ],
   "source": [
    "# Confusion matrix\n",
    "print('Confusion matrix')\n",
    "print(confusion_matrix(y_test, y_pred), '\\n')\n",
    "\n",
    "# Classification report\n",
    "print('Classification report')\n",
    "print(classification_report(y_test, y_pred))"
   ]
  },
  {
   "cell_type": "markdown",
   "id": "9937202a",
   "metadata": {},
   "source": [
    "### Print text representation of the classification tree"
   ]
  },
  {
   "cell_type": "code",
   "execution_count": 33,
   "id": "4ffdb05f",
   "metadata": {},
   "outputs": [
    {
     "name": "stdout",
     "output_type": "stream",
     "text": [
      "|--- emp <= 1399.00\n",
      "|   |--- pop <= 3661.00\n",
      "|   |   |--- lon <= 7.13\n",
      "|   |   |   |--- class: Migros\n",
      "|   |   |--- lon >  7.13\n",
      "|   |   |   |--- class: Volg\n",
      "|   |--- pop >  3661.00\n",
      "|   |   |--- bfs_number <= 131.00\n",
      "|   |   |   |--- class: Volg\n",
      "|   |   |--- bfs_number >  131.00\n",
      "|   |   |   |--- class: Migros\n",
      "|--- emp >  1399.00\n",
      "|   |--- pop_dens <= 30.11\n",
      "|   |   |--- class: Volg\n",
      "|   |--- pop_dens >  30.11\n",
      "|   |   |--- emp <= 2531.00\n",
      "|   |   |   |--- class: Migros\n",
      "|   |   |--- emp >  2531.00\n",
      "|   |   |   |--- class: Migros\n",
      "\n"
     ]
    }
   ],
   "source": [
    "# Text representation of the classification tree\n",
    "text_rep = tree.export_text(clf, \n",
    "                            feature_names=list(X_train.columns))\n",
    "\n",
    "# Print text_representation\n",
    "print(text_rep)"
   ]
  },
  {
   "cell_type": "markdown",
   "id": "381947af",
   "metadata": {},
   "source": [
    "## Visualize the classification tree"
   ]
  },
  {
   "cell_type": "code",
   "execution_count": 35,
   "id": "85f22840",
   "metadata": {},
   "outputs": [
    {
     "data": {
      "image/png": "[encoded data removed]",
      "text/plain": [
       "<Figure size 1600x1000 with 1 Axes>"
      ]
     },
     "metadata": {},
     "output_type": "display_data"
    }
   ],
   "source": [
    "# For the meaning of numbers in boxes see root node\n",
    "fig = plt.figure(figsize=(16,10))\n",
    "tree_plot = tree.plot_tree(clf, \n",
    "                   feature_names=list(X_train.columns),  \n",
    "                   class_names=['Migros', 'Volg'],\n",
    "                   filled=True,\n",
    "                   fontsize=10,\n",
    "                   label='root')"
   ]
  },
  {
   "cell_type": "markdown",
   "id": "55281fec",
   "metadata": {},
   "source": [
    "## Random Forest Classifier\n",
    "For details see: https://scikit-learn.org/stable/modules/generated/sklearn.ensemble.RandomForestClassifier.html"
   ]
  },
  {
   "cell_type": "markdown",
   "id": "5123f45e",
   "metadata": {},
   "source": [
    "### Create train and test samples (train = 80%, test = 20% of the data)"
   ]
  },
  {
   "cell_type": "code",
   "execution_count": 37,
   "id": "7141b2d8",
   "metadata": {},
   "outputs": [
    {
     "name": "stdout",
     "output_type": "stream",
     "text": [
      "X2_train:\n",
      "      bfs_number        lat       lon     pop     pop_dens    frg_pct  \\\n",
      "293         2701  47.543553  7.592179  173232  7263.396226  37.955459   \n",
      "2568        1098  47.088382  8.112992    7046   155.712707   9.466364   \n",
      "1175        1707  47.141312  8.428719   10990   739.569314  26.669700   \n",
      "1436        2401  47.318050  7.801760    3793   545.755396  31.953599   \n",
      "57           261  47.393708  8.529246  420217  4778.994655  32.458468   \n",
      "\n",
      "           emp  \n",
      "293   185432.0  \n",
      "2568    3100.0  \n",
      "1175   13035.0  \n",
      "1436    3713.0  \n",
      "57    491193.0   \n",
      "\n",
      "y2_train:\n",
      "293     Migros\n",
      "2568    Migros\n",
      "1175    Migros\n",
      "1436    Migros\n",
      "57      Migros\n",
      "Name: brand, dtype: object\n"
     ]
    }
   ],
   "source": [
    "# Create train and test samples\n",
    "X2_train, X2_test, y2_train, y2_test = train_test_split(df_sub[['bfs_number', 'lat', 'lon', 'pop', 'pop_dens', 'frg_pct', 'emp']], \n",
    "                                                    df_sub['brand'], \n",
    "                                                    test_size=0.50, \n",
    "                                                    random_state=42)\n",
    "\n",
    "# Show X2_train\n",
    "print('X2_train:')\n",
    "print(X2_train.head(), '\\n')\n",
    "\n",
    "# Show y2_train\n",
    "print('y2_train:')\n",
    "print(y2_train.head())"
   ]
  },
  {
   "cell_type": "markdown",
   "id": "db15ac37",
   "metadata": {},
   "source": [
    "### Fit the Random Forest Classifier"
   ]
  },
  {
   "cell_type": "code",
   "execution_count": 38,
   "id": "3bd21de8",
   "metadata": {},
   "outputs": [
    {
     "name": "stdout",
     "output_type": "stream",
     "text": [
      "Predicted target variable (0 = not survived, 1 = survived)\n"
     ]
    },
    {
     "data": {
      "text/plain": [
       "array(['Migros', 'Migros', 'Migros', 'Migros', 'Volg', 'Migros', 'Volg',\n",
       "       'Migros', 'Volg', 'Migros', 'Volg', 'Migros', 'Migros', 'Migros',\n",
       "       'Migros', 'Volg', 'Volg', 'Volg', 'Volg', 'Volg', 'Volg', 'Migros',\n",
       "       'Volg', 'Migros', 'Migros', 'Volg', 'Volg', 'Migros', 'Volg',\n",
       "       'Migros', 'Migros', 'Volg', 'Migros', 'Migros', 'Migros', 'Migros',\n",
       "       'Migros', 'Migros', 'Migros', 'Migros', 'Migros', 'Migros', 'Volg',\n",
       "       'Volg', 'Volg', 'Migros', 'Volg', 'Volg', 'Migros', 'Migros',\n",
       "       'Migros', 'Migros', 'Migros', 'Migros', 'Migros', 'Migros', 'Volg',\n",
       "       'Migros', 'Volg', 'Volg', 'Migros', 'Migros', 'Migros', 'Migros',\n",
       "       'Migros', 'Volg', 'Migros', 'Migros', 'Migros', 'Migros', 'Migros',\n",
       "       'Migros', 'Volg', 'Migros', 'Migros', 'Volg', 'Migros', 'Migros',\n",
       "       'Migros', 'Volg', 'Volg', 'Migros', 'Volg', 'Migros', 'Migros',\n",
       "       'Migros', 'Migros', 'Migros', 'Migros', 'Migros', 'Volg', 'Volg',\n",
       "       'Migros', 'Migros', 'Migros', 'Migros', 'Migros', 'Volg', 'Migros',\n",
       "       'Migros', 'Migros', 'Migros', 'Migros', 'Migros', 'Migros',\n",
       "       'Migros', 'Migros', 'Migros', 'Volg', 'Migros', 'Volg', 'Volg',\n",
       "       'Migros', 'Migros', 'Volg', 'Migros', 'Volg', 'Volg', 'Volg',\n",
       "       'Migros', 'Volg', 'Volg', 'Migros', 'Migros', 'Volg', 'Volg',\n",
       "       'Volg', 'Migros', 'Migros', 'Migros', 'Migros', 'Migros', 'Migros',\n",
       "       'Migros', 'Migros', 'Migros', 'Migros', 'Migros', 'Migros',\n",
       "       'Migros', 'Volg', 'Migros', 'Migros', 'Migros', 'Migros', 'Migros',\n",
       "       'Migros', 'Migros', 'Migros', 'Migros', 'Migros', 'Migros',\n",
       "       'Migros', 'Migros', 'Volg', 'Migros', 'Migros', 'Migros', 'Migros',\n",
       "       'Migros', 'Volg', 'Volg', 'Migros', 'Volg', 'Volg', 'Volg',\n",
       "       'Migros', 'Migros', 'Migros', 'Migros', 'Volg', 'Volg', 'Migros',\n",
       "       'Migros', 'Migros', 'Migros', 'Migros', 'Migros', 'Migros',\n",
       "       'Migros', 'Migros', 'Migros', 'Migros', 'Volg', 'Migros', 'Migros',\n",
       "       'Migros', 'Migros', 'Migros', 'Migros', 'Migros', 'Migros', 'Volg',\n",
       "       'Migros', 'Migros', 'Migros', 'Migros', 'Migros', 'Migros',\n",
       "       'Migros', 'Migros', 'Migros', 'Migros', 'Migros', 'Migros', 'Volg',\n",
       "       'Volg', 'Migros', 'Volg', 'Volg', 'Volg', 'Migros', 'Migros',\n",
       "       'Migros', 'Volg', 'Volg', 'Volg', 'Migros', 'Volg', 'Migros',\n",
       "       'Volg', 'Migros', 'Migros', 'Migros', 'Volg', 'Migros', 'Migros',\n",
       "       'Migros', 'Volg', 'Volg', 'Migros', 'Migros', 'Migros', 'Migros',\n",
       "       'Migros', 'Migros', 'Migros', 'Migros', 'Migros', 'Migros',\n",
       "       'Migros', 'Volg', 'Migros', 'Migros', 'Migros', 'Migros', 'Volg',\n",
       "       'Migros', 'Volg', 'Volg', 'Migros', 'Migros', 'Migros', 'Migros',\n",
       "       'Volg', 'Migros', 'Migros', 'Volg', 'Volg', 'Volg', 'Migros',\n",
       "       'Migros', 'Migros', 'Volg', 'Migros', 'Migros', 'Migros', 'Migros',\n",
       "       'Migros', 'Migros', 'Migros', 'Migros', 'Migros', 'Migros',\n",
       "       'Migros', 'Volg', 'Migros', 'Volg', 'Migros', 'Volg', 'Migros',\n",
       "       'Volg', 'Volg', 'Volg', 'Migros', 'Volg', 'Migros', 'Migros',\n",
       "       'Migros', 'Migros', 'Migros', 'Volg', 'Volg', 'Migros', 'Migros',\n",
       "       'Volg', 'Volg', 'Volg', 'Migros', 'Migros', 'Migros', 'Migros',\n",
       "       'Volg', 'Migros', 'Volg', 'Migros', 'Migros', 'Volg', 'Volg',\n",
       "       'Migros', 'Migros', 'Volg', 'Migros', 'Volg', 'Migros', 'Volg',\n",
       "       'Volg', 'Volg', 'Volg', 'Migros', 'Migros', 'Volg', 'Migros',\n",
       "       'Migros', 'Migros', 'Volg', 'Migros', 'Volg', 'Migros', 'Migros',\n",
       "       'Migros', 'Migros', 'Migros', 'Migros', 'Migros', 'Volg', 'Migros',\n",
       "       'Migros', 'Migros', 'Migros', 'Migros', 'Migros', 'Migros',\n",
       "       'Migros', 'Migros', 'Migros', 'Migros', 'Volg'], dtype=object)"
      ]
     },
     "execution_count": 38,
     "metadata": {},
     "output_type": "execute_result"
    }
   ],
   "source": [
    "# Initialize the random forest classifier\n",
    "rfc = RandomForestClassifier(random_state=20, max_depth=10)\n",
    "\n",
    "# Train the random forest classifier\n",
    "rfc = rfc.fit(X2_train, y2_train)\n",
    "\n",
    "# Predict the target variable (0 = not survived, 1 = survived)\n",
    "y_pred_rf = rfc.predict(X2_test)\n",
    "\n",
    "print('Predicted target variable (0 = not survived, 1 = survived)')\n",
    "y_pred_rf"
   ]
  },
  {
   "cell_type": "markdown",
   "id": "81eefb08",
   "metadata": {},
   "source": [
    "### Show confusion matrix and classification report"
   ]
  },
  {
   "cell_type": "code",
   "execution_count": 39,
   "id": "f8f171ff",
   "metadata": {},
   "outputs": [
    {
     "name": "stdout",
     "output_type": "stream",
     "text": [
      "Confusion matrix\n",
      "[[219  27]\n",
      " [ 25  77]] \n",
      "\n",
      "Classification report\n",
      "              precision    recall  f1-score   support\n",
      "\n",
      "      Migros       0.90      0.89      0.89       246\n",
      "        Volg       0.74      0.75      0.75       102\n",
      "\n",
      "    accuracy                           0.85       348\n",
      "   macro avg       0.82      0.82      0.82       348\n",
      "weighted avg       0.85      0.85      0.85       348\n",
      "\n"
     ]
    }
   ],
   "source": [
    "# Confusion matrix\n",
    "print('Confusion matrix')\n",
    "print(confusion_matrix(y2_test, y_pred_rf), '\\n')\n",
    "\n",
    "# Classification report\n",
    "print('Classification report')\n",
    "print(classification_report(y2_test, y_pred_rf))"
   ]
  },
  {
   "cell_type": "markdown",
   "id": "dcba715c",
   "metadata": {},
   "source": [
    "### Show feature importance"
   ]
  },
  {
   "cell_type": "code",
   "execution_count": 40,
   "id": "a566ca03",
   "metadata": {},
   "outputs": [
    {
     "name": "stdout",
     "output_type": "stream",
     "text": [
      "Index(['emp', 'pop', 'frg_pct', 'pop_dens', 'lon', 'bfs_number', 'lat'], dtype='object')\n",
      "[0.24235697 0.23394329 0.14233807 0.12508617 0.10352383 0.0847871\n",
      " 0.06796456]\n"
     ]
    },
    {
     "data": {
      "text/plain": [
       "<Axes: ylabel='features'>"
      ]
     },
     "execution_count": 40,
     "metadata": {},
     "output_type": "execute_result"
    },
    {
     "data": {
      "image/png": "[encoded data removed]",
      "text/plain": [
       "<Figure size 600x300 with 1 Axes>"
      ]
     },
     "metadata": {},
     "output_type": "display_data"
    }
   ],
   "source": [
    "cols = X2_train.columns\n",
    "\n",
    "# Derive feature importance from random forest\n",
    "importances = rfc.feature_importances_\n",
    "std = np.std([tree.feature_importances_ for tree in rfc.estimators_], axis=0)\n",
    "indices = np.argsort(importances)[::-1]\n",
    "\n",
    "# Print col-names and importances-values\n",
    "print( cols[indices] )\n",
    "print( importances[indices] )\n",
    "\n",
    "# Barplot with feature importance\n",
    "df_fi = pd.DataFrame({'features':cols,'importances': importances})\n",
    "df_fi.sort_values('importances', inplace=True)\n",
    "df_fi.plot(kind='barh', \n",
    "           y='importances', \n",
    "           x='features', \n",
    "           color='darkred', \n",
    "           figsize=(6,3))"
   ]
  },
  {
   "cell_type": "markdown",
   "id": "f0039738",
   "metadata": {},
   "source": [
    "### ROC curve and AUC"
   ]
  },
  {
   "cell_type": "code",
   "execution_count": 41,
   "id": "410b176f",
   "metadata": {},
   "outputs": [
    {
     "data": {
      "image/png": "[encoded data removed]",
      "text/plain": [
       "<Figure size 600x400 with 1 Axes>"
      ]
     },
     "metadata": {},
     "output_type": "display_data"
    }
   ],
   "source": [
    "# Plot ROC curve and calculate AUC\n",
    "plt.figure(figsize=(6,4))\n",
    "ax = plt.gca()\n",
    "rfc_disp = RocCurveDisplay.from_estimator(rfc, \n",
    "                                          X2_test, \n",
    "                                          y2_test, \n",
    "                                          ax=ax,\n",
    "                                          alpha=0.8,\n",
    "                                          c=\"darkred\")\n",
    "plt.show()"
   ]
  },
  {
   "cell_type": "markdown",
   "id": "387bd5b3",
   "metadata": {},
   "source": [
    "### Jupyter notebook --footer info-- (please always provide this at the end of each submitted notebook)"
   ]
  },
  {
   "cell_type": "code",
   "execution_count": 42,
   "id": "c933c713",
   "metadata": {},
   "outputs": [
    {
     "name": "stdout",
     "output_type": "stream",
     "text": [
      "-----------------------------------\n",
      "POSIX\n",
      "Linux | 6.2.0-1015-azure\n",
      "Datetime: 2023-11-14 19:48:40\n",
      "Python Version: 3.10.13\n",
      "-----------------------------------\n"
     ]
    }
   ],
   "source": [
    "import os\n",
    "import platform\n",
    "import socket\n",
    "from platform import python_version\n",
    "from datetime import datetime\n",
    "\n",
    "print('-----------------------------------')\n",
    "print(os.name.upper())\n",
    "print(platform.system(), '|', platform.release())\n",
    "print('Datetime:', datetime.now().strftime(\"%Y-%m-%d %H:%M:%S\"))\n",
    "print('Python Version:', python_version())\n",
    "print('-----------------------------------')"
   ]
  }
 ],
 "metadata": {
  "kernelspec": {
   "display_name": "Python 3 (ipykernel)",
   "language": "python",
   "name": "python3"
  },
  "language_info": {
   "codemirror_mode": {
    "name": "ipython",
    "version": 3
   },
   "file_extension": ".py",
   "mimetype": "text/x-python",
   "name": "python",
   "nbconvert_exporter": "python",
   "pygments_lexer": "ipython3",
   "version": "3.10.13"
  }
 },
 "nbformat": 4,
 "nbformat_minor": 5
}
