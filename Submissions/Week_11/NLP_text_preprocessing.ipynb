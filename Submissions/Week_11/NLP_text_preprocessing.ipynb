{
 "cells": [
  {
   "cell_type": "markdown",
   "id": "e0f68ae5",
   "metadata": {},
   "source": [
    "# Natural Language Processing - Text Preprocessing"
   ]
  },
  {
   "cell_type": "markdown",
   "id": "2054b14d",
   "metadata": {},
   "source": [
    "## Libraries and settings"
   ]
  },
  {
   "cell_type": "code",
   "execution_count": 34,
   "id": "ba4eb3dc",
   "metadata": {},
   "outputs": [
    {
     "name": "stdout",
     "output_type": "stream",
     "text": [
      "Current working directory: /workspaces/data_analytics/Submissions/Week_11\n"
     ]
    },
    {
     "name": "stderr",
     "output_type": "stream",
     "text": [
      "[nltk_data] Downloading package stopwords to /home/vscode/nltk_data...\n",
      "[nltk_data]   Package stopwords is already up-to-date!\n",
      "[nltk_data] Downloading package punkt to /home/vscode/nltk_data...\n",
      "[nltk_data]   Package punkt is already up-to-date!\n",
      "[nltk_data] Downloading package wordnet to /home/vscode/nltk_data...\n",
      "[nltk_data]   Package wordnet is already up-to-date!\n",
      "[nltk_data] Downloading package omw-1.4 to /home/vscode/nltk_data...\n",
      "[nltk_data]   Package omw-1.4 is already up-to-date!\n",
      "[nltk_data] Downloading package averaged_perceptron_tagger to\n",
      "[nltk_data]     /home/vscode/nltk_data...\n",
      "[nltk_data]   Package averaged_perceptron_tagger is already up-to-\n",
      "[nltk_data]       date!\n"
     ]
    }
   ],
   "source": [
    "# Libraries\n",
    "import os\n",
    "import re\n",
    "import string\n",
    "import numpy as np\n",
    "import pandas as pd\n",
    "from pprint import pprint\n",
    "\n",
    "import nltk\n",
    "\n",
    "# Import only once\n",
    "nltk.download('stopwords')\n",
    "nltk.download('punkt')\n",
    "nltk.download('wordnet')\n",
    "nltk.download('omw-1.4')\n",
    "nltk.download('averaged_perceptron_tagger')\n",
    "\n",
    "from nltk.tag import pos_tag\n",
    "from nltk.corpus import stopwords\n",
    "from nltk.chunk import tree2conlltags\n",
    "from nltk.chunk import conlltags2tree\n",
    "from nltk.tokenize import word_tokenize\n",
    "from nltk.stem import WordNetLemmatizer\n",
    "\n",
    "from sklearn.feature_extraction.text import CountVectorizer\n",
    "from sklearn.feature_extraction.text import TfidfVectorizer\n",
    "\n",
    "# Ignore warnings\n",
    "import warnings\n",
    "warnings.filterwarnings('ignore')\n",
    "\n",
    "# Current working directory\n",
    "print('Current working directory:', os.getcwd())"
   ]
  },
  {
   "cell_type": "markdown",
   "id": "e252684a",
   "metadata": {},
   "source": [
    "## Defining documents"
   ]
  },
  {
   "cell_type": "code",
   "execution_count": 35,
   "id": "e8057467",
   "metadata": {},
   "outputs": [
    {
     "data": {
      "text/plain": [
       "'The main ingredients of pasta are eggs and flour. Knead the flower and eggs into a dough. Run your dough through the pasta maker.'"
      ]
     },
     "execution_count": 35,
     "metadata": {},
     "output_type": "execute_result"
    }
   ],
   "source": [
    "# Defining documents (=sentenses)\n",
    "d1 = 'The main ingredients of pasta are eggs and flour.'\n",
    "d2 = 'Knead the flower and eggs into a dough.'\n",
    "d3 = 'Run your dough through the pasta maker.'\n",
    "\n",
    "corpus_01 = d1 + ' ' + d2 + ' ' + d3\n",
    "corpus_01"
   ]
  },
  {
   "cell_type": "markdown",
   "id": "49fadda5",
   "metadata": {},
   "source": [
    "## Text preprocessing\n",
    "#### Steps:\n",
    "- Text to lowercase\n",
    "- Removing punctuations\n",
    "- Tokenization\n",
    "- Removal of stop words\n",
    "- Lemmatization"
   ]
  },
  {
   "cell_type": "markdown",
   "id": "71e649b8",
   "metadata": {},
   "source": [
    "### Text to lowercase"
   ]
  },
  {
   "cell_type": "code",
   "execution_count": 36,
   "id": "2666c8b1",
   "metadata": {},
   "outputs": [
    {
     "data": {
      "text/plain": [
       "'the main ingredients of pasta are eggs and flour. knead the flower and eggs into a dough. run your dough through the pasta maker.'"
      ]
     },
     "execution_count": 36,
     "metadata": {},
     "output_type": "execute_result"
    }
   ],
   "source": [
    "# Text to lowercase function\n",
    "def text_lowercase(text):\n",
    "    return text.lower()\n",
    "\n",
    "# Text to lowercase\n",
    "corpus_02 = text_lowercase(corpus_01)\n",
    "corpus_02"
   ]
  },
  {
   "cell_type": "markdown",
   "id": "c837286f",
   "metadata": {},
   "source": [
    "### Removing punctuation"
   ]
  },
  {
   "cell_type": "code",
   "execution_count": 37,
   "id": "90067406",
   "metadata": {},
   "outputs": [
    {
     "data": {
      "text/plain": [
       "'the main ingredients of pasta are eggs and flour knead the flower and eggs into a dough run your dough through the pasta maker'"
      ]
     },
     "execution_count": 37,
     "metadata": {},
     "output_type": "execute_result"
    }
   ],
   "source": [
    "# Remove punctuation function\n",
    "def remove_punctuation(text):\n",
    "    translator = str.maketrans('', '', string.punctuation)\n",
    "    return text.translate(translator)\n",
    "\n",
    "# Remove punctuation\n",
    "corpus_03 = remove_punctuation(corpus_02)\n",
    "corpus_03"
   ]
  },
  {
   "cell_type": "markdown",
   "id": "986153d2",
   "metadata": {},
   "source": [
    "### Tokenize text & removal of stopwords"
   ]
  },
  {
   "cell_type": "code",
   "execution_count": 38,
   "id": "e2e99fbd",
   "metadata": {},
   "outputs": [
    {
     "name": "stdout",
     "output_type": "stream",
     "text": [
      "List of english stopwords:\n",
      "{'ourselves', 'm', 'each', \"wouldn't\", 'their', 'above', 'few', \"haven't\", 'from', 'ma', \"aren't\", 'why', 'them', \"she's\", 'do', 'there', 'o', 'its', 'themselves', 'our', 'at', 'where', 'same', 'herself', 'just', \"mustn't\", 's', \"won't\", 'theirs', 'a', 'doesn', 'll', 'yourself', 'of', 'such', 'isn', 'after', 'other', \"hadn't\", 'the', 'both', 'hasn', \"you've\", 'very', 'or', 'those', 'than', 'some', 'be', 'but', 'off', 'itself', 'are', 'doing', 'as', 'she', 'up', 'here', 'her', 'will', 'only', 'and', 'having', 'had', 'an', 'under', 'these', 'your', 'yourselves', 'during', 'own', 'yours', 'by', \"don't\", \"doesn't\", \"you'd\", \"mightn't\", 'was', 'i', \"you'll\", 'nor', 'wasn', 'while', 'now', 'out', 've', \"it's\", 'you', 'no', 'too', 'can', \"shouldn't\", \"that'll\", 'did', 'into', 'they', 'which', \"needn't\", 'me', 'most', 'am', 'needn', 'to', 'wouldn', 'should', 'in', 'that', 'he', \"wasn't\", \"isn't\", 're', \"weren't\", 'hers', 'how', 'ours', 'y', 'mustn', 'been', 'any', 'myself', 'have', 'until', \"shan't\", \"didn't\", 'it', 'against', 'through', 'aren', 'weren', 'further', 'is', 'again', 'we', \"should've\", 'himself', 'all', 'ain', 'over', 'my', 'once', 'haven', 'has', 'then', 'what', 'whom', 'below', 'not', 'don', 't', 'on', \"hasn't\", 'because', 'down', 'd', 'mightn', 'shan', 'his', 'does', \"you're\", 'for', 'more', 'couldn', 'being', 'hadn', 'about', 'shouldn', 'with', 'if', 'when', 'didn', 'so', 'him', \"couldn't\", 'won', 'who', 'before', 'between', 'were', 'this'}\n"
     ]
    }
   ],
   "source": [
    "# Show english stopwords\n",
    "eng_stopwords = set(stopwords.words('english'))\n",
    "print(\"List of english stopwords:\")\n",
    "print(eng_stopwords)"
   ]
  },
  {
   "cell_type": "code",
   "execution_count": 39,
   "id": "d83ab939",
   "metadata": {},
   "outputs": [
    {
     "name": "stdout",
     "output_type": "stream",
     "text": [
      "['main', 'ingredients', 'pasta', 'eggs', 'flour', 'knead', 'flower', 'eggs', 'dough', 'run', 'dough', 'pasta', 'maker']"
     ]
    }
   ],
   "source": [
    "# Function for tokenization and the removal of stopwords\n",
    "def remove_stopwords(text):\n",
    "    stop_words = set(stopwords.words(\"english\"))\n",
    "    word_tokens = word_tokenize(text)\n",
    "    filtered_text = [word for word in word_tokens if word not in stop_words]\n",
    "    return filtered_text\n",
    " \n",
    "# Remove stopwords\n",
    "corpus_04 = remove_stopwords(corpus_03)\n",
    "print(corpus_04, end=\"\")"
   ]
  },
  {
   "cell_type": "markdown",
   "id": "ad590183",
   "metadata": {},
   "source": [
    "### Lemmatization"
   ]
  },
  {
   "cell_type": "code",
   "execution_count": 40,
   "id": "410fed5d",
   "metadata": {},
   "outputs": [
    {
     "name": "stdout",
     "output_type": "stream",
     "text": [
      "Before lemmatization:\n",
      "['main', 'ingredients', 'pasta', 'eggs', 'flour', 'knead', 'flower', 'eggs', 'dough', 'run', 'dough', 'pasta', 'maker'] \n",
      "\n",
      "After lemmatization:\n",
      "['main', 'ingredients', 'pasta', 'egg', 'flour', 'knead', 'flower', 'egg', 'dough', 'run', 'dough', 'pasta', 'maker']"
     ]
    }
   ],
   "source": [
    "# Initialize Lemmatizer\n",
    "lemmatizer = WordNetLemmatizer()\n",
    "\n",
    "# Lemmatize string function\n",
    "def lemmatize_word(text):\n",
    "    word_tokens = word_tokenize(text)\n",
    "    lemmas = [lemmatizer.lemmatize(word, pos ='v') for word in word_tokens]\n",
    "    return lemmas\n",
    "\n",
    "# Lemmatize\n",
    "lem = []\n",
    "for i in corpus_04:\n",
    "    lem.append(lemmatize_word(i))\n",
    "\n",
    "# Nested list to list\n",
    "corpus_05 = [' '.join([str(x) for x in lst]) for lst in lem]\n",
    "\n",
    "print('Before lemmatization:')\n",
    "print(corpus_04, '\\n')\n",
    "\n",
    "print('After lemmatization:')\n",
    "print(corpus_05, end=\"\")"
   ]
  },
  {
   "cell_type": "markdown",
   "id": "1d9ad6de",
   "metadata": {},
   "source": [
    "## Redefine the text corpus (pre-processed)"
   ]
  },
  {
   "cell_type": "code",
   "execution_count": 49,
   "id": "08a3cb57",
   "metadata": {},
   "outputs": [],
   "source": [
    "# We will use the lemmatized words above to re-define our corpus \n",
    "corpus = ['main', 'ingredients', 'pasta', 'egg', 'flour', 'knead', 'flower', 'egg', 'dough', 'run', 'dough', 'pasta', 'maker']"
   ]
  },
  {
   "cell_type": "markdown",
   "id": "198cc6d0",
   "metadata": {},
   "source": [
    "## Document-term matrix with ngram_range=(1,1)"
   ]
  },
  {
   "cell_type": "code",
   "execution_count": 50,
   "id": "ead679d3",
   "metadata": {},
   "outputs": [
    {
     "name": "stdout",
     "output_type": "stream",
     "text": [
      "Document-term matrix\n",
      "    dough  egg  flour  flower  ingredients  knead  main  maker  pasta  run\n",
      "0       0    0      0       0            0      0     1      0      0    0\n",
      "1       0    0      0       0            1      0     0      0      0    0\n",
      "2       0    0      0       0            0      0     0      0      1    0\n",
      "3       0    1      0       0            0      0     0      0      0    0\n",
      "4       0    0      1       0            0      0     0      0      0    0\n",
      "5       0    0      0       0            0      1     0      0      0    0\n",
      "6       0    0      0       1            0      0     0      0      0    0\n",
      "7       0    1      0       0            0      0     0      0      0    0\n",
      "8       1    0      0       0            0      0     0      0      0    0\n",
      "9       0    0      0       0            0      0     0      0      0    1\n",
      "10      1    0      0       0            0      0     0      0      0    0\n",
      "11      0    0      0       0            0      0     0      0      1    0\n",
      "12      0    0      0       0            0      0     0      1      0    0\n"
     ]
    }
   ],
   "source": [
    "# Vectorizer with ngram_range=(1,1)\n",
    "vectorizer = CountVectorizer(min_df=0.0, ngram_range=(1,1))\n",
    "\n",
    "# Transform \n",
    "count = vectorizer.fit_transform(corpus)\n",
    " \n",
    "# Create dataframe\n",
    "df_count = pd.DataFrame(count.toarray(),\n",
    "                        columns=vectorizer.get_feature_names_out())\n",
    "\n",
    "print('Document-term matrix')\n",
    "print(df_count)"
   ]
  },
  {
   "cell_type": "markdown",
   "id": "417feb3a",
   "metadata": {},
   "source": [
    "## Document-term matrix with ngram_range=(2,2)"
   ]
  },
  {
   "cell_type": "code",
   "execution_count": 53,
   "id": "4eb33ec6",
   "metadata": {},
   "outputs": [
    {
     "name": "stdout",
     "output_type": "stream",
     "text": [
      "Document-term matrix\n",
      "   dough pasta  dough run  flour knead  flower egg  main ingredients  \\\n",
      "0            0          0            0           0                 1   \n",
      "1            0          0            0           0                 0   \n",
      "2            0          0            1           0                 0   \n",
      "3            0          0            0           1                 0   \n",
      "4            0          1            0           0                 0   \n",
      "5            1          0            0           0                 0   \n",
      "\n",
      "   pasta egg  pasta maker  \n",
      "0          0            0  \n",
      "1          1            0  \n",
      "2          0            0  \n",
      "3          0            0  \n",
      "4          0            0  \n",
      "5          0            1  \n"
     ]
    }
   ],
   "source": [
    "# Vectorizer with with ngram_range=(2,2)\n",
    "vectorizer = CountVectorizer(min_df=0.0, ngram_range=(2,2))\n",
    "\n",
    "corpus = ['main ingredients', 'pasta egg', 'flour knead', 'flower egg', 'dough run', 'dough pasta maker']\n",
    "\n",
    "\n",
    "# Transform \n",
    "count = vectorizer.fit_transform(corpus)\n",
    " \n",
    "# Create dataframe\n",
    "df_count = pd.DataFrame(count.toarray(),\n",
    "                        columns=vectorizer.get_feature_names_out())\n",
    "\n",
    "print('Document-term matrix')\n",
    "print(df_count)"
   ]
  },
  {
   "cell_type": "markdown",
   "id": "c846a236",
   "metadata": {},
   "source": [
    "## Term frequency-inverse document frequency (TF-IDF)\n",
    "- For details see: https://www.learndatasci.com/glossary/tf-idf-term-frequency-inverse-document-frequency"
   ]
  },
  {
   "cell_type": "markdown",
   "id": "5854fa81",
   "metadata": {},
   "source": [
    "### Term Frequency (TF)"
   ]
  },
  {
   "cell_type": "code",
   "execution_count": 54,
   "id": "f9ff38f9",
   "metadata": {},
   "outputs": [
    {
     "name": "stdout",
     "output_type": "stream",
     "text": [
      "Number of words in the corpus: 10 \n",
      "\n",
      "The words in the corpus: \n",
      " {'main', 'ingredients', 'egg', 'flour', 'dough', 'knead', 'flower', 'run', 'pasta', 'maker'}\n",
      "\n",
      "Term Frequency (TF):\n",
      "   main  ingredients  egg  flour   dough  knead  flower  run   pasta   maker\n",
      "0   0.5          0.5  0.0    0.0  0.0000    0.0     0.0  0.0  0.0000  0.0000\n",
      "1   0.0          0.0  0.5    0.0  0.0000    0.0     0.0  0.0  0.5000  0.0000\n",
      "2   0.0          0.0  0.0    0.5  0.0000    0.5     0.0  0.0  0.0000  0.0000\n",
      "3   0.0          0.0  0.5    0.0  0.0000    0.0     0.5  0.0  0.0000  0.0000\n",
      "4   0.0          0.0  0.0    0.0  0.5000    0.0     0.0  0.5  0.0000  0.0000\n",
      "5   0.0          0.0  0.0    0.0  0.3333    0.0     0.0  0.0  0.3333  0.3333\n"
     ]
    }
   ],
   "source": [
    "# Compute Term Frequency (TF)\n",
    "words_set = set()\n",
    "for doc in corpus:\n",
    "    words = doc.split(' ')\n",
    "    words_set = words_set.union(set(words))\n",
    "    \n",
    "print('Number of words in the corpus:',len(words_set), '\\n')\n",
    "print('The words in the corpus: \\n', words_set)\n",
    "\n",
    "# Number of documents in the corpus\n",
    "n_docs = len(corpus)\n",
    "\n",
    "# Number of unique words in the corpus \n",
    "n_words_set = len(words_set)\n",
    "\n",
    "df_tf = pd.DataFrame(np.zeros((n_docs, n_words_set)), \n",
    "                     columns=list(words_set))\n",
    "\n",
    "print(\"\\nTerm Frequency (TF):\")\n",
    "for i in range(n_docs):\n",
    "    # Words in the document\n",
    "    words = corpus[i].split(' ')\n",
    "    for w in words:\n",
    "        df_tf[w][i] = df_tf[w][i] + (1 / len(words))\n",
    "        \n",
    "print(df_tf.round(4))"
   ]
  },
  {
   "cell_type": "markdown",
   "id": "d91dae3d",
   "metadata": {},
   "source": [
    "### Inverse Document Frequency (IDF)"
   ]
  },
  {
   "cell_type": "code",
   "execution_count": 55,
   "id": "5fe31336",
   "metadata": {},
   "outputs": [
    {
     "name": "stdout",
     "output_type": "stream",
     "text": [
      "\n",
      "Inverse Document Frequency (IDF):\n",
      "           main:     0.7782\n",
      "    ingredients:     0.7782\n",
      "            egg:     0.4771\n",
      "          flour:     0.7782\n",
      "          dough:     0.4771\n",
      "          knead:     0.7782\n",
      "         flower:     0.7782\n",
      "            run:     0.7782\n",
      "          pasta:     0.4771\n",
      "          maker:     0.7782\n"
     ]
    }
   ],
   "source": [
    "# Computing Inverse Document Frequency (IDF)\n",
    "print(\"\\nInverse Document Frequency (IDF):\")\n",
    "\n",
    "idf = {}\n",
    "\n",
    "for w in words_set:\n",
    "    \n",
    "    # k = number of documents that contain this word\n",
    "    k = 0\n",
    "    \n",
    "    for i in range(n_docs):\n",
    "        if w in corpus[i].split():\n",
    "            k += 1\n",
    "            \n",
    "    idf[w] =  np.log10(n_docs / k).round(4)\n",
    "    \n",
    "    print(f'{w:>15}: {idf[w]:>10}')"
   ]
  },
  {
   "cell_type": "markdown",
   "id": "cc493eae",
   "metadata": {},
   "source": [
    "### Term Frequency - Inverse Document Frequency (TF-IDF)"
   ]
  },
  {
   "cell_type": "code",
   "execution_count": 56,
   "id": "9c5ae575",
   "metadata": {},
   "outputs": [
    {
     "name": "stdout",
     "output_type": "stream",
     "text": [
      "\n",
      "TF-IDF:\n",
      "     main  ingredients     egg   flour   dough   knead  flower     run  \\\n",
      "0  0.3891       0.3891  0.0000  0.0000  0.0000  0.0000  0.0000  0.0000   \n",
      "1  0.0000       0.0000  0.2386  0.0000  0.0000  0.0000  0.0000  0.0000   \n",
      "2  0.0000       0.0000  0.0000  0.3891  0.0000  0.3891  0.0000  0.0000   \n",
      "3  0.0000       0.0000  0.2386  0.0000  0.0000  0.0000  0.3891  0.0000   \n",
      "4  0.0000       0.0000  0.0000  0.0000  0.2386  0.0000  0.0000  0.3891   \n",
      "5  0.0000       0.0000  0.0000  0.0000  0.1590  0.0000  0.0000  0.0000   \n",
      "\n",
      "    pasta   maker  \n",
      "0  0.0000  0.0000  \n",
      "1  0.2386  0.0000  \n",
      "2  0.0000  0.0000  \n",
      "3  0.0000  0.0000  \n",
      "4  0.0000  0.0000  \n",
      "5  0.1590  0.2594  \n"
     ]
    }
   ],
   "source": [
    "# Computing TF-IDF\n",
    "df_tf_idf = df_tf.copy()\n",
    "\n",
    "for w in words_set:\n",
    "    for i in range(n_docs):\n",
    "        df_tf_idf[w][i] = df_tf[w][i] * idf[w]\n",
    "\n",
    "print('\\nTF-IDF:')\n",
    "print(df_tf_idf.round(4))"
   ]
  },
  {
   "cell_type": "markdown",
   "id": "6e7b0f38",
   "metadata": {},
   "source": [
    "## Part-of-Speach (POS) tagging\n",
    "For meaning of POS-tags see: https://pythonexamples.org/nltk-pos-tagging"
   ]
  },
  {
   "cell_type": "code",
   "execution_count": 58,
   "id": "5c8c05c3",
   "metadata": {},
   "outputs": [
    {
     "name": "stdout",
     "output_type": "stream",
     "text": [
      "[('One', 'CD', 'O'),\n",
      " ('morning', 'NN', 'B-NP'),\n",
      " (',', ',', 'O'),\n",
      " ('when', 'WRB', 'O'),\n",
      " ('Gregor', 'NNP', 'O'),\n",
      " ('Samsa', 'NNP', 'O'),\n",
      " ('woke', 'VBD', 'O'),\n",
      " ('from', 'IN', 'O'),\n",
      " ('troubled', 'JJ', 'O'),\n",
      " ('dreams', 'NNS', 'O'),\n",
      " (',', ',', 'O'),\n",
      " ('he', 'PRP', 'O'),\n",
      " ('found', 'VBD', 'O'),\n",
      " ('himself', 'PRP', 'O'),\n",
      " ('transformed', 'VBN', 'O'),\n",
      " ('in', 'IN', 'O'),\n",
      " ('his', 'PRP$', 'O'),\n",
      " ('bed', 'NN', 'B-NP'),\n",
      " ('into', 'IN', 'O'),\n",
      " ('a', 'DT', 'B-NP'),\n",
      " ('horrible', 'JJ', 'I-NP'),\n",
      " ('vermin', 'NN', 'I-NP'),\n",
      " ('.', '.', 'O')]\n"
     ]
    }
   ],
   "source": [
    "text = '''One morning, when Gregor Samsa woke from troubled\n",
    "            dreams, he found himself transformed in his bed into a\n",
    "            horrible vermin.'''\n",
    "\n",
    "def preprocess(sent):\n",
    "    sent = nltk.word_tokenize(sent)\n",
    "    sent = nltk.pos_tag(sent)\n",
    "    return sent\n",
    "\n",
    "sent = preprocess(text)\n",
    "pattern = 'NP: {<DT>?<JJ>*<NN>}'\n",
    "\n",
    "cp = nltk.RegexpParser(pattern)\n",
    "cs = cp.parse(sent)\n",
    "\n",
    "iob_tagged = tree2conlltags(cs)\n",
    "\n",
    "# Print the POS-tags\n",
    "pprint(iob_tagged)"
   ]
  },
  {
   "cell_type": "markdown",
   "metadata": {},
   "source": [
    "### Task 1f\n",
    "| POS                       | Desc                                          |\n",
    "|---------------------------|-----------------------------------------------|\n",
    "| ('One', 'CD', 'O')        | Cardinal Number; Outside                      |\n",
    "| ('morning', 'NN', 'B-NP') | Noun, singular or mass; Beginning-Noun Phrase |\n",
    "| (',', ',', 'O')           | Punctuation; Outside                          |\n",
    "| ('when', 'WRB', 'O')      | Wh adverb; Outside                            |\n",
    "| ('Gregor', 'NNP', 'O')    | Proper noun, singular; Outside                |"
   ]
  },
  {
   "cell_type": "markdown",
   "id": "7d1243de",
   "metadata": {},
   "source": [
    "### Jupyter notebook --footer info-- (please always provide this at the end of each submitted notebook)"
   ]
  },
  {
   "cell_type": "code",
   "execution_count": 60,
   "id": "017357b2",
   "metadata": {},
   "outputs": [
    {
     "name": "stdout",
     "output_type": "stream",
     "text": [
      "-----------------------------------\n",
      "POSIX\n",
      "Linux | 6.2.0-1016-azure\n",
      "Datetime: 2023-11-28 08:12:35\n",
      "Python Version: 3.10.13\n",
      "-----------------------------------\n"
     ]
    }
   ],
   "source": [
    "import os\n",
    "import platform\n",
    "import socket\n",
    "from platform import python_version\n",
    "from datetime import datetime\n",
    "\n",
    "print('-----------------------------------')\n",
    "print(os.name.upper())\n",
    "print(platform.system(), '|', platform.release())\n",
    "print('Datetime:', datetime.now().strftime(\"%Y-%m-%d %H:%M:%S\"))\n",
    "print('Python Version:', python_version())\n",
    "print('-----------------------------------')"
   ]
  }
 ],
 "metadata": {
  "kernelspec": {
   "display_name": "Python 3 (ipykernel)",
   "language": "python",
   "name": "python3"
  },
  "language_info": {
   "codemirror_mode": {
    "name": "ipython",
    "version": 3
   },
   "file_extension": ".py",
   "mimetype": "text/x-python",
   "name": "python",
   "nbconvert_exporter": "python",
   "pygments_lexer": "ipython3",
   "version": "3.10.13"
  }
 },
 "nbformat": 4,
 "nbformat_minor": 5
}
